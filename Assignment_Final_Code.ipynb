{
 "cells": [
  {
   "cell_type": "markdown",
   "id": "02944396",
   "metadata": {},
   "source": [
    "# Assignment"
   ]
  },
  {
   "cell_type": "code",
   "execution_count": 1,
   "id": "0e35444a",
   "metadata": {},
   "outputs": [
    {
     "name": "stdout",
     "output_type": "stream",
     "text": [
      "This Notebook is working\n"
     ]
    }
   ],
   "source": [
    "print(\"This Notebook is working\")"
   ]
  },
  {
   "cell_type": "code",
   "execution_count": 2,
   "id": "c9652bc6",
   "metadata": {},
   "outputs": [],
   "source": [
    "# Import \n",
    "import matplotlib as plt\n",
    "\n",
    "import numpy as np\n",
    "import matplotlib.pyplot as plt\n",
    "from degree_freedom_queen import *\n",
    "from degree_freedom_king1 import *\n",
    "from degree_freedom_king2 import *\n",
    "from generate_game import *\n",
    "from Chess_env import *\n",
    "\n",
    "size_board = 4"
   ]
  },
  {
   "cell_type": "markdown",
   "id": "0bceca7c",
   "metadata": {},
   "source": [
    "## The Environment\n",
    "\n",
    "You can find the environment in the file Chess_env, which contains the class Chess_env. To define an object, you need to provide the board size considered as input. In our example, size_board=4. \n",
    "Chess_env is composed by the following methods:\n",
    "\n",
    "1. Initialise_game. The method initialises an episode by placing the three pieces considered (Agent's king and queen, enemy's king) in the chess board. The outputs of the method are described below in order.\n",
    "\n",
    "     S $\\;$ A matrix representing the board locations filled with 4 numbers: 0, no piece in that position; 1, location of the \n",
    "     agent's king; 2 location of the queen; 3 location of the enemy king.\n",
    "     \n",
    "     X $\\;$ The features, that is the input to the neural network. See the assignment for more information regarding the            definition of the features adopted. To personalise this, go into the Features method of the class Chess_env() and change        accordingly.\n",
    "     \n",
    "     allowed_a $\\;$ The allowed actions that the agent can make. The agent is moving a king, with a total number of 8                possible actions, and a queen, with a total number of $(board_{size}-1)\\times 8$ actions. The total number of possible actions correspond      to the sum of the two, but not all actions are allowed in a given position (movements to locations outside the borders or      against chess rules). Thus, the variable allowed_a is a vector that is one (zero) for an action that the agent can (can't)      make. Be careful, apply the policy considered on the actions that are allowed only.\n",
    "     \n",
    "\n",
    "2. OneStep. The method performs a one step update of the system. Given as input the action selected by the agent, it updates the chess board by performing that action and the response of the enemy king (which is a random allowed action in the settings considered). The first three outputs are the same as for the Initialise_game method, but the variables are computed for the position reached after the update of the system. The fourth and fifth outputs are:\n",
    "\n",
    "     R $\\;$ The reward. To change this, look at the OneStep method of the class where the rewards are set.\n",
    "     \n",
    "     Done $\\;$ A variable that is 1 if the episode has ended (checkmate or draw).\n",
    "     \n",
    "     \n",
    "3. Features. Given the chessboard position, the method computes the features.\n",
    "\n",
    "This information and a quick analysis of the class should be all you need to get going. The other functions that the class exploits are uncommented and constitute an example on how not to write a python code. You can take a look at them if you want, but it is not necessary.\n",
    "\n",
    "\n",
    "\n",
    "\n"
   ]
  },
  {
   "cell_type": "code",
   "execution_count": 3,
   "id": "9593a299",
   "metadata": {},
   "outputs": [],
   "source": [
    "## INITIALISE THE ENVIRONMENT\n",
    "env=Chess_Env(size_board)"
   ]
  },
  {
   "cell_type": "code",
   "execution_count": 4,
   "id": "bbc05bfd",
   "metadata": {},
   "outputs": [
    {
     "name": "stdout",
     "output_type": "stream",
     "text": [
      "[[0 0 0 0]\n",
      " [0 3 0 0]\n",
      " [0 0 0 1]\n",
      " [0 0 2 0]]\n",
      "check?  0\n",
      "dofk2  3\n",
      "\n",
      "[[0 3 0 0]\n",
      " [0 0 0 0]\n",
      " [0 0 0 0]\n",
      " [0 0 2 1]]\n",
      "0  0\n",
      "check?  0\n",
      "dofk2  2\n",
      "\n",
      "[[0 0 3 0]\n",
      " [0 0 0 0]\n",
      " [0 2 0 0]\n",
      " [0 0 0 1]]\n",
      "0  0\n",
      "check?  0\n",
      "dofk2  1\n",
      "\n",
      "[[0 0 0 0]\n",
      " [0 0 0 3]\n",
      " [0 0 0 0]\n",
      " [0 0 2 1]]\n",
      "0  0\n",
      "check?  0\n",
      "dofk2  1\n",
      "\n",
      "[[0 0 0 3]\n",
      " [0 0 0 0]\n",
      " [0 0 2 0]\n",
      " [0 0 0 1]]\n",
      "0  0\n",
      "check?  0\n",
      "dofk2  0\n",
      "\n",
      "[[0 0 0 3]\n",
      " [0 0 0 0]\n",
      " [0 0 2 1]\n",
      " [0 0 0 0]]\n",
      "0.0  1\n",
      "check?  0\n",
      "dofk2  0\n"
     ]
    }
   ],
   "source": [
    "## PRINT 5 STEPS OF AN EPISODE CONSIDERING A RANDOM AGENT\n",
    "\n",
    "S,X,allowed_a=env.Initialise_game()                       # INTIALISE GAME\n",
    "\n",
    "print(S)                                                  # PRINT CHESS BOARD (SEE THE DESCRIPTION ABOVE)\n",
    "\n",
    "print('check? ',env.check)                                # PRINT VARIABLE THAT TELLS IF ENEMY KING IS IN CHECK (1) OR NOT (0)\n",
    "print('dofk2 ',np.sum(env.dfk2_constrain).astype(int))    # PRINT THE NUMBER OF LOCATIONS THAT THE ENEMY KING CAN MOVE TO\n",
    "\n",
    "\n",
    "for i in range(5):\n",
    "    \n",
    "    a,_=np.where(allowed_a==1)                  # FIND WHAT THE ALLOWED ACTIONS ARE\n",
    "    a_agent=np.random.permutation(a)[0]         # MAKE A RANDOM ACTION\n",
    "\n",
    "    S,X,allowed_a,R,Done=env.OneStep(a_agent)   # UPDATE THE ENVIRONMENT\n",
    "    \n",
    "    \n",
    "    ## PRINT CHESS BOARD AND VARIABLES\n",
    "    print('')\n",
    "    print(S)\n",
    "    print(R,'', Done)\n",
    "    print('check? ',env.check)\n",
    "    print('dofk2 ',np.sum(env.dfk2_constrain).astype(int))\n",
    "    \n",
    "    \n",
    "    # TERMINATE THE EPISODE IF Done=True (DRAW OR CHECKMATE)\n",
    "    if Done:\n",
    "        break\n",
    "        \n"
   ]
  },
  {
   "cell_type": "markdown",
   "id": "846f69c0",
   "metadata": {},
   "source": [
    "## Helper functions to print current state"
   ]
  },
  {
   "cell_type": "code",
   "execution_count": 5,
   "id": "6e752d76",
   "metadata": {},
   "outputs": [],
   "source": [
    "# exponential moving average\n",
    "def ema(array, alpha=0.001):\n",
    "    # initialize a numpy array\n",
    "    exponential_average = np.full(len(array), np.nan)\n",
    "    \n",
    "    # set the first value of the ema\n",
    "    exponential_average[0] = array[0]\n",
    "    \n",
    "    # for every data point (starting from the second one)\n",
    "    for i in range(1, len(array)):\n",
    "        \n",
    "        # calculate the ema\n",
    "        exponential_average[i] = alpha * array[i] + (1 - alpha) * exponential_average[i-1]\n",
    "        \n",
    "    # returns the ema and the time range\n",
    "    return exponential_average, np.arange(len(array))"
   ]
  },
  {
   "cell_type": "code",
   "execution_count": 6,
   "id": "c5cb793c",
   "metadata": {},
   "outputs": [],
   "source": [
    "ema_prev = 0\n",
    "def display_progress(episode, nr_actions, R, time_step=100, alpha=0.001):\n",
    "    # reference global ema_prev\n",
    "    global ema_prev\n",
    "    \n",
    "    # if a new process started initialize the previous ema\n",
    "    if episode == 0:\n",
    "        ema_prev = 0\n",
    "    \n",
    "    # calculate the ema\n",
    "    ema = alpha*R + (1-alpha)*ema_prev\n",
    "    \n",
    "    # set previous to current\n",
    "    ema_prev = ema\n",
    "    \n",
    "    # display progress bar only every 100th episode\n",
    "    if not episode % time_step == 0:\n",
    "        return\n",
    "    \n",
    "    print(f\"==== In episode {episode}; Reward: {round(ema,4)}; Nr of needed moves: {nr_actions}\")\n",
    "    return ema_prev"
   ]
  },
  {
   "cell_type": "code",
   "execution_count": 7,
   "id": "ae54fce3",
   "metadata": {},
   "outputs": [],
   "source": [
    "nr2name={\n",
    "    1: \"Enemy King\",\n",
    "    2: \"Agent Queen\",\n",
    "    3: \"Agent King\"\n",
    "}\n",
    "\n",
    "name2nr = {name: nr for nr, name in nr2name.items()}\n",
    "    \n",
    "# returns one-hot-encoded chessboard of a certain figure    \n",
    "def get_position_of(name, X_features):\n",
    "    nr = name2nr[name]\n",
    "    print(f\"Position of the {name} one-hot-encoded is:\")\n",
    "    return X_features[(nr-1)*16: nr*16]\n",
    "\n",
    "def get_possible_movement_king(X_features):\n",
    "    print(f\"Positions to move to for enemy king are:\")\n",
    "    return X_features[48:56]\n",
    "\n",
    "def get_king_threatened(X_features):\n",
    "    print(f'The King is {\"not\" if X_features[57]==0 else \"\"} threatened')\n",
    "    \n",
    "def get_movement_agent(name, allowed_actions):\n",
    "    nr = name2nr[name]\n",
    "    if nr==2:\n",
    "        print(f\"Chessboard, where {name}{name} can move to (except the field she is on):\")\n",
    "        return allowed_actions[8:].flatten()\n",
    "    else:\n",
    "        print(f\"Fields arround {name} where the {name} can move to:\")\n",
    "        return allowed_actions[0:8].flatten()"
   ]
  },
  {
   "cell_type": "code",
   "execution_count": 8,
   "id": "fc16cf7b",
   "metadata": {},
   "outputs": [
    {
     "name": "stdout",
     "output_type": "stream",
     "text": [
      "S resembles the state of the chess board as a 2D array\n",
      "1 = Enemy King\n",
      "2 = Agent Queen\n",
      "3 = Agent King\n",
      "\n",
      "[[0 0 0 0]\n",
      " [0 1 0 0]\n",
      " [0 0 0 2]\n",
      " [0 3 0 0]]\n",
      "\n",
      "\n",
      "X resembles the state of the game (positions of each piece, + possible fields enemy king can move + king threatened)\n",
      "Position of the Enemy King one-hot-encoded is:\n",
      "[0. 0. 0. 0. 0. 1. 0. 0. 0. 0. 0. 0. 0. 0. 0. 0.]\n",
      "\n",
      "Position of the Agent Queen one-hot-encoded is:\n",
      "[0. 0. 0. 0. 0. 0. 0. 0. 0. 0. 0. 1. 0. 0. 0. 0.]\n",
      "\n",
      "Position of the Agent King one-hot-encoded is:\n",
      "[0. 0. 0. 0. 0. 0. 0. 0. 0. 0. 0. 0. 0. 1. 0. 0.]\n",
      "\n",
      "Input size of X 58\n",
      "Positions to move to for enemy king are:\n",
      "[1. 0. 0. 1. 0. 0. 0. 0.]\n",
      "\n",
      "The King is not threatened\n",
      "\n",
      "Chessboard, where Agent QueenAgent Queen can move to (except the field she is on):\n",
      "[0 1 1 1 0 0 0 0 0 0 0 0 0 1 1 0 0 1 1 1 0 0 1 1]\n",
      "\n",
      "Fields arround Agent King where the Agent King can move to:\n",
      "[1 0 0 1 1 0 0 0]\n",
      "\n"
     ]
    }
   ],
   "source": [
    "S,X,allowed_a=env.Initialise_game()   \n",
    "\n",
    "# where S is the (initial) state of the chess board\n",
    "print(\"S resembles the state of the chess board as a 2D array\")\n",
    "for piece in range(1,4):\n",
    "    print(f\"{piece} = {nr2name[piece]}\")\n",
    "print(\"\")\n",
    "print(S)\n",
    "\n",
    "print(\"\\n\")\n",
    "\n",
    "# where X are the features (input to neural network) of the chessboard\n",
    "print('''X resembles the state of the game (positions of each piece, + possible fields enemy king can move + king threatened)''')\n",
    "for piece in range(1,4):\n",
    "    print(get_position_of(nr2name[piece], X))\n",
    "    print(\"\")\n",
    "    \n",
    "print(f\"Input size of X {len(X)}\")\n",
    "print(get_possible_movement_king(X))\n",
    "print(\"\")\n",
    "get_king_threatened(X)\n",
    "print(\"\")\n",
    "\n",
    "# where allowed_a represents all actions that can be taken by the agent (moving queen or king)\n",
    "for piece in range(2,4):\n",
    "    print(get_movement_agent(nr2name[piece], allowed_a))\n",
    "    print(\"\")\n"
   ]
  },
  {
   "cell_type": "markdown",
   "id": "b5a0ee53",
   "metadata": {},
   "source": [
    "# Q-Learning Algorithm"
   ]
  },
  {
   "cell_type": "code",
   "execution_count": 9,
   "id": "15b8427d",
   "metadata": {},
   "outputs": [],
   "source": [
    "# set the hyper parameters for training\n",
    "\n",
    "# number of nodes in the hidden layer\n",
    "size_hidden_layer = 200\n",
    "\n",
    "# exploit our current knowledge with 1-epsilon and take a random action with probability epsilon (explore)\n",
    "epsilon_0 = 0.2  \n",
    "\n",
    "# how quick epsilon is decaying\n",
    "beta_0 = 0.00005\n",
    "\n",
    "# discount factor (how much we discount future rewards)\n",
    "gamma_0 = 0.85     \n",
    "\n",
    "# learning rate\n",
    "eta_0 = 0.0035\n",
    "\n",
    "# number of games to be played\n",
    "N_episodes_0 = 30000\n"
   ]
  },
  {
   "cell_type": "code",
   "execution_count": 10,
   "id": "cb7f8479",
   "metadata": {},
   "outputs": [],
   "source": [
    "class Policies():\n",
    "    def __init__(self, policy):\n",
    "        self.policy = policy\n",
    "    \n",
    "    def get_choosen_action(self, Qvalues, allowed_a, epsilon):\n",
    "        # get the indexes of all allowed actions out of all actions\n",
    "        index_allowed = np.where(allowed_a==1)[0]\n",
    "        \n",
    "        # get the Qvalues of the allowed actions\n",
    "        Qvalues_allowed = Qvalues[index_allowed]\n",
    "        \n",
    "        # get the correct policy\n",
    "        get_action_index = self.get_action_according_to_policy(self.policy)\n",
    "        \n",
    "        # get the index of the choosen action \n",
    "        choosen_index = get_action_index(index_allowed, Qvalues_allowed, epsilon)\n",
    "        \n",
    "        # create a one-hot vector of the action choosen\n",
    "        choosen_action = np.eye(np.shape(Qvalues)[0])[choosen_index]\n",
    "        \n",
    "        # reshape the one-hot vector so that it has (32, 1) and not (32,)\n",
    "        choosen_action = choosen_action.reshape((choosen_action.shape[0], 1))\n",
    "      \n",
    "        return choosen_action, choosen_index\n",
    "    \n",
    "    def get_action_according_to_policy(self, policy):\n",
    "        switcher = {\n",
    "            \"epsilon_greedy\": self.epsilon_greedy_action,\n",
    "        }\n",
    "        \n",
    "        return switcher.get(policy, \"epsilon_greedy\")\n",
    "    \n",
    "    def epsilon_greedy_action(self, ind_allowed, Qvalues_allowed, epsilon):\n",
    "        # get a random number\n",
    "        rand_value=np.random.uniform(0,1)\n",
    "        \n",
    "        if rand_value < epsilon:\n",
    "            # choose a random action\n",
    "            chosen_action = np.random.randint(0, len(ind_allowed))\n",
    "        else:  \n",
    "            # greedy action (choose the action with the highest Qvalue (only from the allowed values))\n",
    "            chosen_action = np.argmax(Qvalues_allowed)\n",
    "            \n",
    "        return ind_allowed[chosen_action]\n",
    "    \n"
   ]
  },
  {
   "cell_type": "code",
   "execution_count": 11,
   "id": "eb368ed3",
   "metadata": {},
   "outputs": [
    {
     "name": "stdout",
     "output_type": "stream",
     "text": [
      "Neural Network can be created\n"
     ]
    }
   ],
   "source": [
    "class Neural_Network():\n",
    "    # input layer has the size of X (state of the game)\n",
    "    # output layer has the size of all actions (size of allowed_actions)\n",
    "    \n",
    "    def __init__(self, size_hidden_layer, eta, gamma, seed=21, input_layer_size=58, output_layer_size=32):\n",
    "        # set a seed so every restart we initialize the weights with the same number\n",
    "        self.seed = seed\n",
    "        np.random.seed(seed)\n",
    "        \n",
    "        # initialize the weights\n",
    "        self.W1 = np.random.randn(size_hidden_layer+1, input_layer_size + 1) * np.sqrt(1 / (input_layer_size+1))\n",
    "        self.W2 = np.random.randn(output_layer_size, size_hidden_layer+1) * np.sqrt(1 / (size_hidden_layer+1))\n",
    "        \n",
    "        # set hyperparameters\n",
    "        self.output_layer_size = output_layer_size\n",
    "        self.eta = eta\n",
    "        self.gamma = gamma\n",
    "\n",
    "    def forward(self, x, only_Q_values):\n",
    "        # input is the X (state of the game)\n",
    "\n",
    "        # (201 rows, 59 columns) * (59 rows, 1 column)\n",
    "        a1 = np.matmul(self.W1, x)\n",
    "        # activate the result with relu\n",
    "        h1 = self.relu_activation(a1)\n",
    "        \n",
    "        # set first row to 1 (bias is in the weight matrix)\n",
    "        h1[0,:] = 1 \n",
    "        \n",
    "        # (201 rows, 1 columns ) * (201 rows, 32 columns)\n",
    "        a2 = np.matmul(self.W2, h1)\n",
    "        \n",
    "        # activate the result with\n",
    "        h2 = self.identity_activation(a2)\n",
    "        \n",
    "        # no activation needed\n",
    "        # store activated and non-activated results of both layers\n",
    "        \n",
    "        if not only_Q_values:\n",
    "            self.a1 = a1\n",
    "            self.h1 = h1\n",
    "            self.a2 = a2\n",
    "            \n",
    "        if only_Q_values == \"Sarsa\":\n",
    "            # a1_next, h1_next, a2_next, h2_next\n",
    "            return a1, h1, a2, h2\n",
    "            \n",
    "        # returns Qvalues\n",
    "        return h2\n",
    "        \n",
    "    \n",
    "    # relu\n",
    "    def relu_activation(self, x):\n",
    "        return np.maximum(0,x)\n",
    "    \n",
    "    # derivative of relu\n",
    "    def heaviside(self, x):\n",
    "        return np.heaviside(x, 0)\n",
    "    \n",
    "    # identity function\n",
    "    def identity_activation(self, x):\n",
    "        return x\n",
    "\n",
    "    # derivative of the identity function\n",
    "    def const(self, x):\n",
    "        return np.ones(x.shape)\n",
    "    \n",
    "    # neural_network_A.backward(R, Q_values_A, Q_next_B_action_star, X, one_hot_action_star)\n",
    "    def backward(self, reward, Qvalues, Q_next, x, choosen_action):\n",
    "        # x resembles the current state (X)\n",
    "        \n",
    "        # create a vector of reward ()\n",
    "        reward_vector = np.tile(reward, (self.output_layer_size, 1))\n",
    "        \n",
    "        # check if there is Q_value for the next step does exist (Game is not over yet)\n",
    "        # Q_next is calculated according to the learning algo: Q-Learning -> max(Q-values of the next state (X))\n",
    "        if Q_next is not None: \n",
    "            \n",
    "            # formula from the slides\n",
    "            delta = reward_vector + self.gamma*Q_next - Qvalues\n",
    "            \n",
    "        # if the game is over there is no Q_next\n",
    "        else:  \n",
    "            delta = reward_vector - Qvalues\n",
    "            \n",
    "        # only calculate the gradient for the action which was taken\n",
    "        delta = delta*choosen_action\n",
    "            \n",
    "        # backpropagate the result\n",
    "        # calculate the derivative of the loss to a2 therefore use the derivative of the second activation function\n",
    "        grad_a2 = delta * self.const(self.a2)\n",
    "        \n",
    "        # calculate the derivative of a2 with respect to W2\n",
    "        # due to the chain rule: TODO\n",
    "        grad_W2 = np.dot(grad_a2, self.h1.T)\n",
    "        \n",
    "        # gradient of loss W1\n",
    "        grad_W1 = np.dot((np.dot(self.W2.T, grad_a2) * self.heaviside(self.a1) ), x.T)\n",
    "\n",
    "        \n",
    "        # update the weights\n",
    "        self.update_weights(grad_W1, grad_W2)\n",
    "        \n",
    "        \n",
    "    def update_weights(self, grad_W1, grad_W2):\n",
    "        self.W1 = self.W1 + self.eta * grad_W1\n",
    "        self.W2 = self.W2 + self.eta * grad_W2\n",
    "        \n",
    "    def add_column_for_bias(self, X):\n",
    "        # if not an np.array transform it to one\n",
    "        X = np.asarray(X)\n",
    "        \n",
    "         # reshape X into the explicit format (58 rows, 1 column)\n",
    "        X = X.reshape((X.shape[0], 1))\n",
    "\n",
    "        # since the input to the NN is (X.shape + 1 (for bias)) we need to add 1\n",
    "        X = np.vstack((np.array([[1]]), X))\n",
    "        \n",
    "        return X\n",
    "    \n",
    "    def set_new_node_values(self, a1_next, h1_next, a2_next):\n",
    "        self.a1 = a1_next\n",
    "        self.h1 = h1_next\n",
    "        self.a2 = a2_next\n",
    "        \n",
    "    \n",
    "nn = Neural_Network(200,2, 3)\n",
    "# input_vector = np.ones((59, 1))\n",
    "\n",
    "print(\"Neural Network can be created\")"
   ]
  },
  {
   "cell_type": "code",
   "execution_count": 12,
   "id": "c391edf4",
   "metadata": {},
   "outputs": [],
   "source": [
    "# training loop: Q-Learning\n",
    "\n",
    "def qlearning(gamma, beta, N_episodes_0 = N_episodes_0, epsilon = epsilon_0, eta=eta_0):\n",
    "    np.random.seed(21)\n",
    "    # initialize (nan) counters to see development of rewards and the number of moves per game\n",
    "    Reward_history = np.full([N_episodes_0, 1], np.nan)\n",
    "    Moves_history = np.full([N_episodes_0, 1], np.nan)\n",
    "\n",
    "    # initialize the neural network\n",
    "    neural_network = Neural_Network(size_hidden_layer, eta, gamma)\n",
    "\n",
    "    # initialize policy\n",
    "    policy = Policies(\"epsilon_greedy\")\n",
    "\n",
    "    for n in range(N_episodes_0):\n",
    "\n",
    "        # decay the epsiolon to have the model explore more in the beginnign\n",
    "        epsilon_in_game = epsilon / (1 + beta * n)\n",
    "\n",
    "        # set Done (back) to the initial value (beginning of the episode)\n",
    "        Done=0 \n",
    "\n",
    "        # counter for number of actions\n",
    "        i = 1 \n",
    "\n",
    "        # reset to a new state/game\n",
    "        S,X,allowed_a=env.Initialise_game()\n",
    "\n",
    "        # format the state of the game for neural network\n",
    "        X = neural_network.add_column_for_bias(X)\n",
    "\n",
    "        # while the game is not over\n",
    "        while Done == 0:\n",
    "\n",
    "            # get the Q values\n",
    "            Q_values = neural_network.forward(X, False)\n",
    "\n",
    "            # get an action according to the policy\n",
    "            one_hot_action, action = policy.get_choosen_action(Q_values, allowed_a, epsilon_in_game)\n",
    "\n",
    "            # do the next step\n",
    "            S_next, X_next, allowed_a_next, R, Done = env.OneStep(action)\n",
    "\n",
    "            # format the state of the game for neural network\n",
    "            X_next = neural_network.add_column_for_bias(X_next)\n",
    "\n",
    "            # if game is finished update Q_values without Q_next\n",
    "            if Done == 1:\n",
    "\n",
    "                # calculate gradients and update weights\n",
    "                neural_network.backward(R, Q_values, None, X, one_hot_action)\n",
    "\n",
    "                # set the reward for an episode\n",
    "                np.put(Reward_history, n, R)\n",
    "                np.put(Moves_history, n, i)\n",
    "\n",
    "                # display progress (every 1000th step)\n",
    "                display_progress(n, i, R, 1000)\n",
    "\n",
    "                # stop the while loop and start a new game\n",
    "                break\n",
    "\n",
    "            # the game is NOT finished yet\n",
    "            else:\n",
    "                # calculate the next Q_values according to the Q-Learning algorithm\n",
    "                Q_next = np.max(neural_network.forward(X_next, True))\n",
    "\n",
    "                # backpropagate with all the data and get update the weights\n",
    "                neural_network.backward(R, Q_values, Q_next, X, one_hot_action)\n",
    "\n",
    "                # next state becomes current state\n",
    "                S=np.copy(S_next)\n",
    "                X=np.copy(X_next)\n",
    "                allowed_a=np.copy(allowed_a_next)\n",
    "\n",
    "                # update number of actions\n",
    "                i += 1\n",
    "    return Reward_history, Moves_history"
   ]
  },
  {
   "cell_type": "code",
   "execution_count": 13,
   "id": "8058d8da",
   "metadata": {
    "scrolled": true
   },
   "outputs": [
    {
     "name": "stdout",
     "output_type": "stream",
     "text": [
      "==== In episode 0; Reward: 0.0; Nr of needed moves: 6\n",
      "==== In episode 1000; Reward: 0.2037; Nr of needed moves: 4\n",
      "==== In episode 2000; Reward: 0.4281; Nr of needed moves: 1\n",
      "==== In episode 3000; Reward: 0.5794; Nr of needed moves: 24\n",
      "==== In episode 4000; Reward: 0.6773; Nr of needed moves: 4\n",
      "==== In episode 5000; Reward: 0.7476; Nr of needed moves: 1\n",
      "==== In episode 6000; Reward: 0.7918; Nr of needed moves: 2\n",
      "==== In episode 7000; Reward: 0.8066; Nr of needed moves: 33\n",
      "==== In episode 8000; Reward: 0.83; Nr of needed moves: 4\n",
      "==== In episode 9000; Reward: 0.8228; Nr of needed moves: 11\n",
      "==== In episode 10000; Reward: 0.8342; Nr of needed moves: 5\n",
      "==== In episode 11000; Reward: 0.8332; Nr of needed moves: 6\n",
      "==== In episode 12000; Reward: 0.8225; Nr of needed moves: 18\n",
      "==== In episode 13000; Reward: 0.8397; Nr of needed moves: 6\n",
      "==== In episode 14000; Reward: 0.8589; Nr of needed moves: 1\n",
      "==== In episode 15000; Reward: 0.8551; Nr of needed moves: 3\n",
      "==== In episode 16000; Reward: 0.8742; Nr of needed moves: 1\n",
      "==== In episode 17000; Reward: 0.8621; Nr of needed moves: 12\n",
      "==== In episode 18000; Reward: 0.8621; Nr of needed moves: 5\n",
      "==== In episode 19000; Reward: 0.8777; Nr of needed moves: 10\n",
      "==== In episode 20000; Reward: 0.8846; Nr of needed moves: 12\n",
      "==== In episode 21000; Reward: 0.8794; Nr of needed moves: 5\n",
      "==== In episode 22000; Reward: 0.8735; Nr of needed moves: 7\n",
      "==== In episode 23000; Reward: 0.8796; Nr of needed moves: 10\n",
      "==== In episode 24000; Reward: 0.8904; Nr of needed moves: 1\n",
      "==== In episode 25000; Reward: 0.8891; Nr of needed moves: 15\n",
      "==== In episode 26000; Reward: 0.8952; Nr of needed moves: 10\n",
      "==== In episode 27000; Reward: 0.8954; Nr of needed moves: 1\n",
      "==== In episode 28000; Reward: 0.9005; Nr of needed moves: 1\n",
      "==== In episode 29000; Reward: 0.906; Nr of needed moves: 10\n"
     ]
    }
   ],
   "source": [
    "Reward_history_0, Moves_history_0 = qlearning(gamma_0, beta_0)"
   ]
  },
  {
   "cell_type": "code",
   "execution_count": 14,
   "id": "e1add232",
   "metadata": {},
   "outputs": [
    {
     "name": "stdout",
     "output_type": "stream",
     "text": [
      "==== In episode 0; Reward: 0.0; Nr of needed moves: 6\n",
      "==== In episode 1000; Reward: 0.2037; Nr of needed moves: 4\n",
      "==== In episode 2000; Reward: 0.4281; Nr of needed moves: 1\n",
      "==== In episode 3000; Reward: 0.5794; Nr of needed moves: 24\n",
      "==== In episode 4000; Reward: 0.6773; Nr of needed moves: 4\n",
      "==== In episode 5000; Reward: 0.7476; Nr of needed moves: 1\n",
      "==== In episode 6000; Reward: 0.7918; Nr of needed moves: 2\n",
      "==== In episode 7000; Reward: 0.8066; Nr of needed moves: 33\n",
      "==== In episode 8000; Reward: 0.83; Nr of needed moves: 4\n",
      "==== In episode 9000; Reward: 0.8228; Nr of needed moves: 11\n",
      "==== In episode 10000; Reward: 0.8342; Nr of needed moves: 5\n",
      "==== In episode 11000; Reward: 0.8332; Nr of needed moves: 6\n",
      "==== In episode 12000; Reward: 0.8225; Nr of needed moves: 18\n",
      "==== In episode 13000; Reward: 0.8397; Nr of needed moves: 6\n",
      "==== In episode 14000; Reward: 0.8589; Nr of needed moves: 1\n"
     ]
    }
   ],
   "source": [
    "Reward_history_0_small, Moves_history_0_small = qlearning(gamma_0, beta_0, N_episodes_0 =15000)"
   ]
  },
  {
   "cell_type": "code",
   "execution_count": 15,
   "id": "ff6cbd7e",
   "metadata": {},
   "outputs": [
    {
     "name": "stdout",
     "output_type": "stream",
     "text": [
      "==== In episode 0; Reward: 0.0; Nr of needed moves: 6\n",
      "==== In episode 1000; Reward: 0.2293; Nr of needed moves: 3\n",
      "==== In episode 2000; Reward: 0.3787; Nr of needed moves: 3\n",
      "==== In episode 3000; Reward: 0.4501; Nr of needed moves: 1\n",
      "==== In episode 4000; Reward: 0.5087; Nr of needed moves: 1\n",
      "==== In episode 5000; Reward: 0.5107; Nr of needed moves: 15\n",
      "==== In episode 6000; Reward: 0.4998; Nr of needed moves: 1\n",
      "==== In episode 7000; Reward: 0.513; Nr of needed moves: 10\n",
      "==== In episode 8000; Reward: 0.5361; Nr of needed moves: 3\n",
      "==== In episode 9000; Reward: 0.5414; Nr of needed moves: 1\n",
      "==== In episode 10000; Reward: 0.5537; Nr of needed moves: 1\n",
      "==== In episode 11000; Reward: 0.5602; Nr of needed moves: 24\n",
      "==== In episode 12000; Reward: 0.5652; Nr of needed moves: 7\n",
      "==== In episode 13000; Reward: 0.5705; Nr of needed moves: 1\n",
      "==== In episode 14000; Reward: 0.5946; Nr of needed moves: 3\n"
     ]
    }
   ],
   "source": [
    "Reward_history_changed_gamma_2, Moves_history_changed_gamma_2 = qlearning(0.03, beta_0, N_episodes_0 =15000)"
   ]
  },
  {
   "cell_type": "code",
   "execution_count": 16,
   "id": "aed66de3",
   "metadata": {},
   "outputs": [
    {
     "name": "stdout",
     "output_type": "stream",
     "text": [
      "==== In episode 0; Reward: 0.0; Nr of needed moves: 6\n",
      "==== In episode 1000; Reward: 0.2552; Nr of needed moves: 65\n",
      "==== In episode 2000; Reward: 0.5049; Nr of needed moves: 1\n",
      "==== In episode 3000; Reward: 0.6514; Nr of needed moves: 3\n",
      "==== In episode 4000; Reward: 0.7228; Nr of needed moves: 2\n",
      "==== In episode 5000; Reward: 0.7728; Nr of needed moves: 16\n",
      "==== In episode 6000; Reward: 0.7942; Nr of needed moves: 4\n",
      "==== In episode 7000; Reward: 0.8361; Nr of needed moves: 1\n",
      "==== In episode 8000; Reward: 0.8687; Nr of needed moves: 2\n",
      "==== In episode 9000; Reward: 0.8738; Nr of needed moves: 4\n",
      "==== In episode 10000; Reward: 0.8992; Nr of needed moves: 1\n",
      "==== In episode 11000; Reward: 0.9031; Nr of needed moves: 1\n",
      "==== In episode 12000; Reward: 0.9064; Nr of needed moves: 12\n",
      "==== In episode 13000; Reward: 0.9249; Nr of needed moves: 3\n",
      "==== In episode 14000; Reward: 0.9191; Nr of needed moves: 4\n"
     ]
    }
   ],
   "source": [
    "Reward_history_changed_beta_2, Moves_history_changed_beta_2 = qlearning(gamma_0, 0.0005, N_episodes_0 =15000)"
   ]
  },
  {
   "cell_type": "markdown",
   "id": "19ca28e9",
   "metadata": {},
   "source": [
    "### Analysis of the results"
   ]
  },
  {
   "cell_type": "code",
   "execution_count": 17,
   "id": "43adc83a",
   "metadata": {},
   "outputs": [
    {
     "data": {
      "text/plain": [
       "[<matplotlib.lines.Line2D at 0x269ce273070>]"
      ]
     },
     "execution_count": 17,
     "metadata": {},
     "output_type": "execute_result"
    },
    {
     "data": {
      "image/png": "[encoded data removed]",
      "text/plain": [
       "<Figure size 432x288 with 1 Axes>"
      ]
     },
     "metadata": {
      "needs_background": "light"
     },
     "output_type": "display_data"
    }
   ],
   "source": [
    "ema_var, steps = ema(Reward_history_0)\n",
    "plt.plot(steps, ema_var)"
   ]
  },
  {
   "cell_type": "code",
   "execution_count": 18,
   "id": "019af45c",
   "metadata": {},
   "outputs": [
    {
     "data": {
      "text/plain": [
       "[<matplotlib.lines.Line2D at 0x269ce366040>]"
      ]
     },
     "execution_count": 18,
     "metadata": {},
     "output_type": "execute_result"
    },
    {
     "data": {
      "image/png": "[encoded data removed]",
      "text/plain": [
       "<Figure size 432x288 with 1 Axes>"
      ]
     },
     "metadata": {
      "needs_background": "light"
     },
     "output_type": "display_data"
    }
   ],
   "source": [
    "ema_var, steps = ema(Moves_history_0)\n",
    "plt.plot(steps, ema_var)"
   ]
  },
  {
   "cell_type": "code",
   "execution_count": 19,
   "id": "016342e3",
   "metadata": {},
   "outputs": [
    {
     "data": {
      "text/plain": [
       "[<matplotlib.lines.Line2D at 0x269ce3d7220>]"
      ]
     },
     "execution_count": 19,
     "metadata": {},
     "output_type": "execute_result"
    },
    {
     "data": {
      "image/png": "[encoded data removed]",
      "text/plain": [
       "<Figure size 432x288 with 1 Axes>"
      ]
     },
     "metadata": {
      "needs_background": "light"
     },
     "output_type": "display_data"
    }
   ],
   "source": [
    "ema_var, steps = ema(Reward_history_changed_gamma_2)\n",
    "plt.plot(steps, ema_var)"
   ]
  },
  {
   "cell_type": "code",
   "execution_count": 20,
   "id": "a62a9707",
   "metadata": {},
   "outputs": [
    {
     "data": {
      "text/plain": [
       "[<matplotlib.lines.Line2D at 0x269cf4025e0>]"
      ]
     },
     "execution_count": 20,
     "metadata": {},
     "output_type": "execute_result"
    },
    {
     "data": {
      "image/png": "[encoded data removed]",
      "text/plain": [
       "<Figure size 432x288 with 1 Axes>"
      ]
     },
     "metadata": {
      "needs_background": "light"
     },
     "output_type": "display_data"
    }
   ],
   "source": [
    "ema_var, steps = ema(Moves_history_changed_gamma_2)\n",
    "plt.plot(steps, ema_var)"
   ]
  },
  {
   "cell_type": "code",
   "execution_count": 21,
   "id": "a13a9a64",
   "metadata": {},
   "outputs": [
    {
     "data": {
      "text/plain": [
       "[<matplotlib.lines.Line2D at 0x269cf4762b0>]"
      ]
     },
     "execution_count": 21,
     "metadata": {},
     "output_type": "execute_result"
    },
    {
     "data": {
      "image/png": "[encoded data removed]",
      "text/plain": [
       "<Figure size 432x288 with 1 Axes>"
      ]
     },
     "metadata": {
      "needs_background": "light"
     },
     "output_type": "display_data"
    }
   ],
   "source": [
    "ema_var, steps = ema(Reward_history_changed_beta_2)\n",
    "plt.plot(steps, ema_var)"
   ]
  },
  {
   "cell_type": "code",
   "execution_count": 22,
   "id": "2cd09a5d",
   "metadata": {},
   "outputs": [
    {
     "data": {
      "text/plain": [
       "[<matplotlib.lines.Line2D at 0x269cf4d4880>]"
      ]
     },
     "execution_count": 22,
     "metadata": {},
     "output_type": "execute_result"
    },
    {
     "data": {
      "image/png": "[encoded data removed]",
      "text/plain": [
       "<Figure size 432x288 with 1 Axes>"
      ]
     },
     "metadata": {
      "needs_background": "light"
     },
     "output_type": "display_data"
    }
   ],
   "source": [
    "ema_var, steps = ema(Moves_history_changed_beta_2)\n",
    "plt.plot(steps, ema_var)"
   ]
  },
  {
   "cell_type": "markdown",
   "id": "1cef77a2",
   "metadata": {},
   "source": [
    "### Comparison Graphs"
   ]
  },
  {
   "cell_type": "code",
   "execution_count": 23,
   "id": "55ea7a32",
   "metadata": {},
   "outputs": [],
   "source": [
    "def plot_function(history1, history2, label2):\n",
    "    ema_reward_1, steps = ema(history1)\n",
    "    ema_reward_2, steps = ema(history2)\n",
    "\n",
    "    plt.plot(steps, ema_reward_1, label = \"Reward Orignal\")\n",
    "    plt.plot(steps, ema_reward_2, label = label2)\n",
    "    plt.legend()\n",
    "    plt.show()"
   ]
  },
  {
   "cell_type": "markdown",
   "id": "6117ad94",
   "metadata": {},
   "source": [
    "With a new Gamma of 0.03"
   ]
  },
  {
   "cell_type": "code",
   "execution_count": 24,
   "id": "2eb0f3a5",
   "metadata": {},
   "outputs": [
    {
     "data": {
      "image/png": "[encoded data removed]",
      "text/plain": [
       "<Figure size 432x288 with 1 Axes>"
      ]
     },
     "metadata": {
      "needs_background": "light"
     },
     "output_type": "display_data"
    }
   ],
   "source": [
    "# Reward\n",
    "plot_function(Reward_history_0_small, Reward_history_changed_gamma_2, \"New Gamma\")"
   ]
  },
  {
   "cell_type": "code",
   "execution_count": 25,
   "id": "71ece970",
   "metadata": {},
   "outputs": [
    {
     "data": {
      "image/png": "[encoded data removed]",
      "text/plain": [
       "<Figure size 432x288 with 1 Axes>"
      ]
     },
     "metadata": {
      "needs_background": "light"
     },
     "output_type": "display_data"
    }
   ],
   "source": [
    "# Number of Moves\n",
    "plot_function(Moves_history_0_small, Moves_history_changed_gamma_2, \"New Gamma\")"
   ]
  },
  {
   "cell_type": "markdown",
   "id": "c719cc68",
   "metadata": {},
   "source": [
    "With a new Beta of 0.0005"
   ]
  },
  {
   "cell_type": "code",
   "execution_count": 26,
   "id": "5e47136e",
   "metadata": {},
   "outputs": [
    {
     "data": {
      "image/png": "[encoded data removed]",
      "text/plain": [
       "<Figure size 432x288 with 1 Axes>"
      ]
     },
     "metadata": {
      "needs_background": "light"
     },
     "output_type": "display_data"
    }
   ],
   "source": [
    "# Reward\n",
    "plot_function(Reward_history_0_small, Reward_history_changed_beta_2, \"New Beta\")"
   ]
  },
  {
   "cell_type": "code",
   "execution_count": 27,
   "id": "c8f07f8a",
   "metadata": {},
   "outputs": [
    {
     "data": {
      "image/png": "[encoded data removed]",
      "text/plain": [
       "<Figure size 432x288 with 1 Axes>"
      ]
     },
     "metadata": {
      "needs_background": "light"
     },
     "output_type": "display_data"
    }
   ],
   "source": [
    "# Number of Moves\n",
    "plot_function(Moves_history_0_small, Moves_history_changed_beta_2, \"New Beta\")"
   ]
  },
  {
   "cell_type": "markdown",
   "id": "be495470",
   "metadata": {},
   "source": [
    "# Deep Double Q-Learning\n",
    "First we need to set the parameters for this learning algorithm\n"
   ]
  },
  {
   "cell_type": "code",
   "execution_count": 28,
   "id": "1627d488",
   "metadata": {},
   "outputs": [],
   "source": [
    "# set the hyper parameters for training\n",
    "\n",
    "# number of nodes in the hidden layer\n",
    "size_hidden_layer = 200\n",
    "\n",
    "# exploit our current knowledge with 1-epsilon and take a random action with probability epsilon (explore)\n",
    "epsilon_0 = 0.2  \n",
    "\n",
    "# how quick epsilon is decaying\n",
    "beta = 0.00005\n",
    "\n",
    "# discount factor (how much we discount future rewards)\n",
    "gamma = 0.85     \n",
    "\n",
    "# learning rate\n",
    "eta = 0.0035\n",
    "\n",
    "# number of games to be played\n",
    "N_episodes = 30000\n",
    "\n",
    "# how often A is updated\n",
    "update_A = 0.5"
   ]
  },
  {
   "cell_type": "code",
   "execution_count": 29,
   "id": "f7b2b4c8",
   "metadata": {},
   "outputs": [
    {
     "name": "stdout",
     "output_type": "stream",
     "text": [
      "==== In episode 0; Reward: 0.0; Nr of needed moves: 6\n",
      "==== In episode 1000; Reward: 0.22; Nr of needed moves: 8\n",
      "==== In episode 2000; Reward: 0.4158; Nr of needed moves: 1\n",
      "==== In episode 3000; Reward: 0.5669; Nr of needed moves: 20\n",
      "==== In episode 4000; Reward: 0.6372; Nr of needed moves: 3\n",
      "==== In episode 5000; Reward: 0.6545; Nr of needed moves: 4\n",
      "==== In episode 6000; Reward: 0.6814; Nr of needed moves: 24\n",
      "==== In episode 7000; Reward: 0.6883; Nr of needed moves: 5\n",
      "==== In episode 8000; Reward: 0.7043; Nr of needed moves: 27\n",
      "==== In episode 9000; Reward: 0.712; Nr of needed moves: 4\n",
      "==== In episode 10000; Reward: 0.7134; Nr of needed moves: 38\n",
      "==== In episode 11000; Reward: 0.7355; Nr of needed moves: 4\n",
      "==== In episode 12000; Reward: 0.7287; Nr of needed moves: 2\n",
      "==== In episode 13000; Reward: 0.7463; Nr of needed moves: 2\n",
      "==== In episode 14000; Reward: 0.7406; Nr of needed moves: 4\n",
      "==== In episode 15000; Reward: 0.7453; Nr of needed moves: 1\n",
      "==== In episode 16000; Reward: 0.7479; Nr of needed moves: 99\n",
      "==== In episode 17000; Reward: 0.7642; Nr of needed moves: 10\n",
      "==== In episode 18000; Reward: 0.7821; Nr of needed moves: 4\n",
      "==== In episode 19000; Reward: 0.7947; Nr of needed moves: 2\n",
      "==== In episode 20000; Reward: 0.8061; Nr of needed moves: 4\n",
      "==== In episode 21000; Reward: 0.8009; Nr of needed moves: 48\n",
      "==== In episode 22000; Reward: 0.8181; Nr of needed moves: 2\n",
      "==== In episode 23000; Reward: 0.8349; Nr of needed moves: 86\n",
      "==== In episode 24000; Reward: 0.8352; Nr of needed moves: 5\n",
      "==== In episode 25000; Reward: 0.8287; Nr of needed moves: 4\n",
      "==== In episode 26000; Reward: 0.8328; Nr of needed moves: 2\n",
      "==== In episode 27000; Reward: 0.8372; Nr of needed moves: 5\n",
      "==== In episode 28000; Reward: 0.8442; Nr of needed moves: 8\n",
      "==== In episode 29000; Reward: 0.8714; Nr of needed moves: 7\n"
     ]
    }
   ],
   "source": [
    "# training loop: Double Q-Learning\n",
    "\n",
    "# initialize (nan) counters to see development of rewards and the number of moves per game\n",
    "Reward_history_double_Q = np.full([N_episodes, 1], np.nan)\n",
    "Moves_history_double_Q = np.full([N_episodes, 1], np.nan)\n",
    "\n",
    "# initialize the neural network\n",
    "neural_network_A = Neural_Network(size_hidden_layer, eta, gamma)\n",
    "neural_network_B = Neural_Network(size_hidden_layer, eta, gamma)\n",
    "\n",
    "# initialize policy\n",
    "policy = Policies(\"epsilon_greedy\")\n",
    "\n",
    "for n in range(N_episodes):\n",
    "    \n",
    "    # decay the epsiolon to have the model explore more in the beginnign\n",
    "    epsilon_in_game = epsilon_0 / (1 + beta * n)\n",
    "    \n",
    "    # set Done (back) to the initial value (beginning of the episode)\n",
    "    Done=0 \n",
    "    \n",
    "    # counter for number of actions\n",
    "    i = 1 \n",
    "    \n",
    "    # reset to a new state/game\n",
    "    S,X,allowed_a=env.Initialise_game()\n",
    "    \n",
    "    # format the state of the game for neural network\n",
    "    X = neural_network_A.add_column_for_bias(X)\n",
    "    \n",
    "    # while the game is not over\n",
    "    while Done == 0:\n",
    "        \n",
    "        # get the Q values\n",
    "        Q_values_A = neural_network_A.forward(X, False)\n",
    "        Q_values_B = neural_network_B.forward(X, False)\n",
    "        \n",
    "        # get an action according to the policy\n",
    "        one_hot_action, action = policy.get_choosen_action(Q_values_A + Q_values_B, allowed_a, epsilon_in_game)\n",
    "        \n",
    "        # do the next step\n",
    "        S_next, X_next, allowed_a_next, R, Done = env.OneStep(action)\n",
    "        \n",
    "        # format the state of the game for neural network\n",
    "        X_next = neural_network_A.add_column_for_bias(X_next)\n",
    "        \n",
    "        \n",
    "        # if game is finished update Q_values without Q_next\n",
    "        if Done == 1:\n",
    "            \n",
    "            # Update(A) or Update (B)\n",
    "            if np.random.rand() < update_A:\n",
    "                # we update Q_values of A\n",
    "                \n",
    "        \n",
    "                # update the Q values of A with the Q_values of B\n",
    "                #Qa(x) = Q_values_A\n",
    "                # reward = R\n",
    "                # gamma\n",
    "                # QB(X_prime, np.max())\n",
    "                neural_network_A.backward(R, Q_values_A, None, X, one_hot_action)\n",
    "\n",
    "            else:\n",
    "                # we update Q_values of B\n",
    "                \n",
    "                # update the Q values of B with the Q_values of A\n",
    "                neural_network_B.backward(R, Q_values_B, None, X, one_hot_action)\n",
    "            \n",
    "            # set the reward for an episode\n",
    "            np.put(Reward_history_double_Q, n, R)\n",
    "            np.put(Moves_history_double_Q, n, i)\n",
    "            \n",
    "            # display progress\n",
    "            display_progress(n, i, R, 1000)\n",
    "            \n",
    "            # stop the while loop and start a new game\n",
    "            break\n",
    "        \n",
    "        # the game is NOT finished yet\n",
    "        else:\n",
    "             # Update(A) or Update (B)\n",
    "            if np.random.rand() < update_A:\n",
    "                # we update Q_values of A\n",
    "                \n",
    "                # calculate the next Q_values for B\n",
    "                #  QA(X_next, a = parameter)\n",
    "                Q_next_A = neural_network_A.forward(X_next, True)\n",
    "                \n",
    "                # arg max on action -> set epsilon to 0 -> therefore it is greedy and we get max value\n",
    "                # then we can extract \n",
    "                one_hot_action_star, action_star = policy.get_choosen_action(Q_next_A, allowed_a, 0)\n",
    "                \n",
    "                Q_next_B_action_star = neural_network_B.forward(X_next, True)[action_star]\n",
    "                \n",
    "                # update the Q values of A with the Q_values of B\n",
    "                neural_network_A.backward(R, Q_values_A, Q_next_B_action_star, X, one_hot_action)\n",
    "\n",
    "            else:\n",
    "                # we update Q_values of B\n",
    "                \n",
    "                # calculate the next Q_values for A\n",
    "                #  QA(X_next, a = parameter)\n",
    "                Q_next_B = neural_network_B.forward(X_next, True)\n",
    "                \n",
    "                # arg max on a (a is a parameter)\n",
    "                one_hot_action_star, action_star = policy.get_choosen_action(Q_next_B, allowed_a, 0)\n",
    "                \n",
    "                Q_next_A_action_star = neural_network_A.forward(X_next, True)[action_star]\n",
    "                \n",
    "                # update the Q values of A with the Q_values of B\n",
    "                neural_network_B.backward(R, Q_values_B, Q_next_A_action_star, X, one_hot_action)\n",
    "\n",
    "            \n",
    "            # next state becomes current state\n",
    "            S=np.copy(S_next)\n",
    "            X=np.copy(X_next)\n",
    "            allowed_a=np.copy(allowed_a_next)\n",
    "            \n",
    "            # update number of actions\n",
    "            i += 1\n",
    "    "
   ]
  },
  {
   "cell_type": "markdown",
   "id": "fca605b3",
   "metadata": {},
   "source": [
    "### Analysis of the results"
   ]
  },
  {
   "cell_type": "code",
   "execution_count": 30,
   "id": "f324153f",
   "metadata": {},
   "outputs": [
    {
     "data": {
      "text/plain": [
       "[<matplotlib.lines.Line2D at 0x269d070c610>]"
      ]
     },
     "execution_count": 30,
     "metadata": {},
     "output_type": "execute_result"
    },
    {
     "data": {
      "image/png": "[encoded data removed]",
      "text/plain": [
       "<Figure size 432x288 with 1 Axes>"
      ]
     },
     "metadata": {
      "needs_background": "light"
     },
     "output_type": "display_data"
    }
   ],
   "source": [
    "ema_var, steps = ema(Reward_history_double_Q)\n",
    "plt.plot(steps, ema_var)"
   ]
  },
  {
   "cell_type": "code",
   "execution_count": 31,
   "id": "344ee17b",
   "metadata": {},
   "outputs": [
    {
     "data": {
      "text/plain": [
       "[<matplotlib.lines.Line2D at 0x269d0765d60>]"
      ]
     },
     "execution_count": 31,
     "metadata": {},
     "output_type": "execute_result"
    },
    {
     "data": {
      "image/png": "[encoded data removed]",
      "text/plain": [
       "<Figure size 432x288 with 1 Axes>"
      ]
     },
     "metadata": {
      "needs_background": "light"
     },
     "output_type": "display_data"
    }
   ],
   "source": [
    "ema_var, steps = ema(Moves_history_double_Q)\n",
    "plt.plot(steps, ema_var)"
   ]
  },
  {
   "cell_type": "markdown",
   "id": "f1a4ed78",
   "metadata": {},
   "source": [
    "# Sarsa"
   ]
  },
  {
   "cell_type": "code",
   "execution_count": 32,
   "id": "a5388751",
   "metadata": {},
   "outputs": [],
   "source": [
    "# set the hyper parameters for training\n",
    "\n",
    "# number of nodes in the hidden layer\n",
    "size_hidden_layer = 200\n",
    "\n",
    "# exploit our current knowledge with 1-epsilon and take a random action with probability epsilon (explore)\n",
    "epsilon_0 = 0.2  \n",
    "\n",
    "# how quick epsilon is decaying\n",
    "beta = 0.00005\n",
    "\n",
    "# discount factor (how much we discount future rewards)\n",
    "gamma = 0.85     \n",
    "\n",
    "# learning rate\n",
    "eta = 0.0035\n",
    "\n",
    "# number of games to be played\n",
    "N_episodes = 30000"
   ]
  },
  {
   "cell_type": "code",
   "execution_count": 33,
   "id": "68661670",
   "metadata": {},
   "outputs": [
    {
     "name": "stdout",
     "output_type": "stream",
     "text": [
      "==== In episode 0; Reward: 0.0; Nr of needed moves: 6\n",
      "==== In episode 1000; Reward: 0.2812; Nr of needed moves: 14\n",
      "==== In episode 2000; Reward: 0.4871; Nr of needed moves: 1\n",
      "==== In episode 3000; Reward: 0.6053; Nr of needed moves: 12\n",
      "==== In episode 4000; Reward: 0.6513; Nr of needed moves: 1\n",
      "==== In episode 5000; Reward: 0.6976; Nr of needed moves: 5\n",
      "==== In episode 6000; Reward: 0.7126; Nr of needed moves: 3\n",
      "==== In episode 7000; Reward: 0.7482; Nr of needed moves: 1\n",
      "==== In episode 8000; Reward: 0.7727; Nr of needed moves: 6\n",
      "==== In episode 9000; Reward: 0.7998; Nr of needed moves: 7\n",
      "==== In episode 10000; Reward: 0.827; Nr of needed moves: 4\n",
      "==== In episode 11000; Reward: 0.8674; Nr of needed moves: 10\n",
      "==== In episode 12000; Reward: 0.8715; Nr of needed moves: 1\n",
      "==== In episode 13000; Reward: 0.8912; Nr of needed moves: 3\n",
      "==== In episode 14000; Reward: 0.8933; Nr of needed moves: 1\n",
      "==== In episode 15000; Reward: 0.9019; Nr of needed moves: 9\n",
      "==== In episode 16000; Reward: 0.9202; Nr of needed moves: 2\n",
      "==== In episode 17000; Reward: 0.9265; Nr of needed moves: 2\n",
      "==== In episode 18000; Reward: 0.9305; Nr of needed moves: 1\n",
      "==== In episode 19000; Reward: 0.9398; Nr of needed moves: 3\n",
      "==== In episode 20000; Reward: 0.946; Nr of needed moves: 2\n",
      "==== In episode 21000; Reward: 0.9432; Nr of needed moves: 3\n",
      "==== In episode 22000; Reward: 0.9388; Nr of needed moves: 1\n",
      "==== In episode 23000; Reward: 0.9481; Nr of needed moves: 1\n",
      "==== In episode 24000; Reward: 0.9467; Nr of needed moves: 5\n",
      "==== In episode 25000; Reward: 0.9529; Nr of needed moves: 2\n",
      "==== In episode 26000; Reward: 0.9577; Nr of needed moves: 3\n",
      "==== In episode 27000; Reward: 0.9532; Nr of needed moves: 5\n",
      "==== In episode 28000; Reward: 0.9565; Nr of needed moves: 5\n",
      "==== In episode 29000; Reward: 0.9613; Nr of needed moves: 3\n"
     ]
    }
   ],
   "source": [
    "# training loop: Q-Learning\n",
    "np.random.seed(21)\n",
    "\n",
    "# initialize (nan) counters to see development of rewards and the number of moves per game\n",
    "Reward_history = np.full([N_episodes, 1], np.nan)\n",
    "Moves_history = np.full([N_episodes, 1], np.nan)\n",
    "\n",
    "# initialize the neural network\n",
    "neural_network = Neural_Network(size_hidden_layer, eta, gamma)\n",
    "\n",
    "# initialize policy\n",
    "policy = Policies(\"epsilon_greedy\")\n",
    "\n",
    "for n in range(N_episodes):\n",
    "    \n",
    "    # decay the epsiolon to have the model explore more in the beginnign\n",
    "    epsilon_in_game = epsilon_0 / (1 + beta * n)\n",
    "    \n",
    "    # set Done (back) to the initial value (beginning of the episode)\n",
    "    Done=0 \n",
    "    \n",
    "    # counter for number of actions\n",
    "    i = 1 \n",
    "    \n",
    "    # reset to a new state/game\n",
    "    S,X,allowed_a=env.Initialise_game()\n",
    "    \n",
    "    # format the state of the game for neural network\n",
    "    X = neural_network.add_column_for_bias(X)\n",
    "    \n",
    "    # get the Q values\n",
    "    Q_values = neural_network.forward(X, False)\n",
    "        \n",
    "    # get an action according to the policy\n",
    "    one_hot_action, action = policy.get_choosen_action(Q_values, allowed_a, epsilon_in_game)\n",
    "    \n",
    "    # while the game is not over\n",
    "    while Done == 0:\n",
    "        \n",
    "        # do the next step\n",
    "        S_next, X_next, allowed_a_next, R, Done = env.OneStep(action)\n",
    "        \n",
    "        # format the state of the game for neural network\n",
    "        X_next = neural_network.add_column_for_bias(X_next)\n",
    "        \n",
    "        # if game is finished update Q_values without Q_next\n",
    "        if Done == 1:\n",
    "            \n",
    "            # calculate gradients and update weights\n",
    "            neural_network.backward(R, Q_values, None, X, one_hot_action)\n",
    "            \n",
    "            # set the reward for an episode\n",
    "            np.put(Reward_history, n, R)\n",
    "            np.put(Moves_history, n, i)\n",
    "            \n",
    "            # display progress (every 1000th step)\n",
    "            display_progress(n, i, R, 1000)\n",
    "            \n",
    "            # stop the while loop and start a new game\n",
    "            break\n",
    "        \n",
    "        # the game is NOT finished yet\n",
    "        else:\n",
    "            # calculate the next Q_values according to the Q-Learning algorithm\n",
    "            a1_next, h1_next, a2_next, Q_values_next = neural_network.forward(X_next, \"Sarsa\")\n",
    "            \n",
    "            # get an action according to the policy\n",
    "            one_hot_action_next, action_next = policy.get_choosen_action(Q_values_next, allowed_a_next, epsilon_in_game)\n",
    "            \n",
    "            # TODO why this\n",
    "            # get Qvalue of next action\n",
    "            Q_next = Q_values_next[action_next]\n",
    "            Q_next = np.tile(Q_next, (32, 1))\n",
    "            \n",
    "            # backpropagate with all the data and get update the weights\n",
    "            neural_network.backward(R, Q_values, Q_next, X, one_hot_action)\n",
    "            \n",
    "            \n",
    "            # next state becomes current state\n",
    "            neural_network.set_new_node_values(a1_next, h1_next, a2_next)\n",
    "            Q_values = Q_values_next\n",
    "            action = np.copy(action_next)\n",
    "            one_hot_action = one_hot_action_next\n",
    "            S=np.copy(S_next)\n",
    "            X=np.copy(X_next)\n",
    "            allowed_a=np.copy(allowed_a_next)\n",
    "            \n",
    "            \n",
    "            # update number of actions\n",
    "            i += 1"
   ]
  },
  {
   "cell_type": "markdown",
   "id": "0e546db4",
   "metadata": {},
   "source": [
    "### Analysis of the results"
   ]
  },
  {
   "cell_type": "code",
   "execution_count": 34,
   "id": "09dcedff",
   "metadata": {},
   "outputs": [
    {
     "data": {
      "text/plain": [
       "[<matplotlib.lines.Line2D at 0x269d07d8910>]"
      ]
     },
     "execution_count": 34,
     "metadata": {},
     "output_type": "execute_result"
    },
    {
     "data": {
      "image/png": "[encoded data removed]",
      "text/plain": [
       "<Figure size 432x288 with 1 Axes>"
      ]
     },
     "metadata": {
      "needs_background": "light"
     },
     "output_type": "display_data"
    }
   ],
   "source": [
    "ema_var, steps = ema(Reward_history)\n",
    "plt.plot(steps, ema_var)"
   ]
  },
  {
   "cell_type": "code",
   "execution_count": 35,
   "id": "c4245ddd",
   "metadata": {},
   "outputs": [
    {
     "data": {
      "text/plain": [
       "[<matplotlib.lines.Line2D at 0x269cf6c8130>]"
      ]
     },
     "execution_count": 35,
     "metadata": {},
     "output_type": "execute_result"
    },
    {
     "data": {
      "image/png": "[encoded data removed]",
      "text/plain": [
       "<Figure size 432x288 with 1 Axes>"
      ]
     },
     "metadata": {
      "needs_background": "light"
     },
     "output_type": "display_data"
    }
   ],
   "source": [
    "ema_var, steps = ema(Moves_history)\n",
    "plt.plot(steps, ema_var)"
   ]
  }
 ],
 "metadata": {
  "kernelspec": {
   "display_name": "Python 3 (ipykernel)",
   "language": "python",
   "name": "python3"
  },
  "language_info": {
   "codemirror_mode": {
    "name": "ipython",
    "version": 3
   },
   "file_extension": ".py",
   "mimetype": "text/x-python",
   "name": "python",
   "nbconvert_exporter": "python",
   "pygments_lexer": "ipython3",
   "version": "3.9.7"
  }
 },
 "nbformat": 4,
 "nbformat_minor": 5
}
